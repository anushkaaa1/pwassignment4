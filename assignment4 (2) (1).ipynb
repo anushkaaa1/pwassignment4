{
 "cells": [
  {
   "cell_type": "markdown",
   "id": "1ac2e9a0-3cb1-42db-b403-6779b9d25ec3",
   "metadata": {},
   "source": [
    "Q1. What is the syntax for adding an element to a list in python?"
   ]
  },
  {
   "cell_type": "code",
   "execution_count": 1,
   "id": "1b70f4f3-fa5d-4a29-a5e2-be96582c5774",
   "metadata": {},
   "outputs": [
    {
     "name": "stdout",
     "output_type": "stream",
     "text": [
      "[1, 2, 3, 4, 5]\n"
     ]
    }
   ],
   "source": [
    "a = [1,2,3,4]\n",
    "a.append(5)\n",
    "print(a)"
   ]
  },
  {
   "cell_type": "markdown",
   "id": "be552ecb-54ac-4f73-8c91-b8c97071799f",
   "metadata": {},
   "source": [
    "Q2. What is the difference between remove() and pop() functions in python?"
   ]
  },
  {
   "cell_type": "markdown",
   "id": "4414b9bd-a7c5-4450-a6dd-fe3ac2c65f00",
   "metadata": {},
   "source": [
    "ans. The remove() function is used to remove the first occurence of a value."
   ]
  },
  {
   "cell_type": "code",
   "execution_count": 2,
   "id": "842b0adc-8c75-4604-879e-e71084201285",
   "metadata": {},
   "outputs": [
    {
     "name": "stdout",
     "output_type": "stream",
     "text": [
      "[4, 5, 2, 6]\n"
     ]
    }
   ],
   "source": [
    "a = [2,4,5,2,6]\n",
    "a.remove(2)\n",
    "print(a)"
   ]
  },
  {
   "cell_type": "markdown",
   "id": "09fc5062-f495-468c-b8ee-16fff41193d6",
   "metadata": {},
   "source": [
    "ans. The pop() function is used to remove the last item in the list."
   ]
  },
  {
   "cell_type": "code",
   "execution_count": 1,
   "id": "a9868ee8-75ed-4a0e-93b6-2087c3f3faff",
   "metadata": {},
   "outputs": [
    {
     "name": "stdout",
     "output_type": "stream",
     "text": [
      "[2, 3, 4]\n"
     ]
    }
   ],
   "source": [
    "a = [2,3,4,5]\n",
    "a.pop()\n",
    "print(a)"
   ]
  },
  {
   "cell_type": "markdown",
   "id": "e97dcf9f-6396-4f20-b1bd-e0906c9eef97",
   "metadata": {},
   "source": [
    "Q3. Write a python code to sort a list in descending order."
   ]
  },
  {
   "cell_type": "code",
   "execution_count": 2,
   "id": "6fb60b60-1314-4ab9-b9fd-ab346461473a",
   "metadata": {},
   "outputs": [
    {
     "name": "stdout",
     "output_type": "stream",
     "text": [
      "[5, 4, 3, 2, 1]\n"
     ]
    }
   ],
   "source": [
    "a = [1,2,3,4,5]\n",
    "a.sort(reverse = True)\n",
    "print(a)"
   ]
  },
  {
   "cell_type": "markdown",
   "id": "6cd3a40e-5e86-497f-9b53-fe2099d1f6b4",
   "metadata": {},
   "source": [
    "Q4. Write a python code to count the number of occurences of an element in a list."
   ]
  },
  {
   "cell_type": "code",
   "execution_count": 3,
   "id": "fc3bac6b-b929-4662-9985-1f55c29c78c2",
   "metadata": {},
   "outputs": [
    {
     "name": "stdout",
     "output_type": "stream",
     "text": [
      "3\n"
     ]
    }
   ],
   "source": [
    "a = [2,3,4,2,2,6]\n",
    "print(a.count(2))"
   ]
  },
  {
   "cell_type": "markdown",
   "id": "3ff89841-0cdc-47b0-9a74-bc1820f273c9",
   "metadata": {},
   "source": [
    "Q5. Write a python code to reverse a list."
   ]
  },
  {
   "cell_type": "code",
   "execution_count": 4,
   "id": "3e010b28-715f-4742-84ee-a55af7fde1ce",
   "metadata": {},
   "outputs": [
    {
     "name": "stdout",
     "output_type": "stream",
     "text": [
      "[1, 2, 7, 3, 4, 5]\n"
     ]
    }
   ],
   "source": [
    "a = [5,4,3,7,2,1]\n",
    "a.reverse()\n",
    "print(a)"
   ]
  },
  {
   "cell_type": "code",
   "execution_count": null,
   "id": "a3a4562d-3fab-408d-ab95-8a8998d02b91",
   "metadata": {},
   "outputs": [],
   "source": []
  }
 ],
 "metadata": {
  "kernelspec": {
   "display_name": "Python 3 (ipykernel)",
   "language": "python",
   "name": "python3"
  },
  "language_info": {
   "codemirror_mode": {
    "name": "ipython",
    "version": 3
   },
   "file_extension": ".py",
   "mimetype": "text/x-python",
   "name": "python",
   "nbconvert_exporter": "python",
   "pygments_lexer": "ipython3",
   "version": "3.10.8"
  }
 },
 "nbformat": 4,
 "nbformat_minor": 5
}
